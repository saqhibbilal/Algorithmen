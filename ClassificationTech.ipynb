{
 "cells": [
  {
   "cell_type": "code",
   "execution_count": 1,
   "id": "17fe1b07",
   "metadata": {},
   "outputs": [],
   "source": [
    "import pandas as pd\n",
    "from sklearn.decomposition import PCA\n",
    "from sklearn.preprocessing import StandardScaler\n"
   ]
  },
  {
   "cell_type": "code",
   "execution_count": 2,
   "id": "43f29195",
   "metadata": {},
   "outputs": [],
   "source": [
    "# Load the training data\n",
    "train_data = pd.read_csv(\"TrainData.csv\")"
   ]
  },
  {
   "cell_type": "code",
   "execution_count": 3,
   "id": "d4c5e879",
   "metadata": {},
   "outputs": [],
   "source": [
    "# Separate features (X) and labels (y)\n",
    "X_train = train_data.iloc[:, :-1]  # Features\n",
    "y_train = train_data.iloc[:, -1]   # Labels\n"
   ]
  },
  {
   "cell_type": "code",
   "execution_count": 4,
   "id": "d26c1c61",
   "metadata": {},
   "outputs": [],
   "source": [
    "# Standardize the features\n",
    "scaler = StandardScaler()\n",
    "X_train_scaled = scaler.fit_transform(X_train)"
   ]
  },
  {
   "cell_type": "code",
   "execution_count": 5,
   "id": "02525da0",
   "metadata": {},
   "outputs": [
    {
     "name": "stdout",
     "output_type": "stream",
     "text": [
      "Number of components to retain 95% variance: 112\n",
      "Explained variance ratio of each component: [0.15871387 0.13221568 0.08393295 0.05869179 0.05175319 0.03154792\n",
      " 0.02700036 0.02414105 0.02296171 0.01880846 0.01652314 0.01355869\n",
      " 0.01295999 0.01220259 0.01077938 0.01037568 0.00981178 0.00901887\n",
      " 0.00848091 0.00819032 0.00758642 0.00707182 0.006684   0.00629952\n",
      " 0.00591481 0.00573664 0.00561963 0.00547673 0.00523302 0.00504779\n",
      " 0.00473741 0.00462557 0.00446289 0.00439235 0.00419822 0.004138\n",
      " 0.00399752 0.00384418 0.00371883 0.00365258 0.00355504 0.00353155\n",
      " 0.00327094 0.00313457 0.00306906 0.00296633 0.00285674 0.00280423\n",
      " 0.0027563  0.00269949 0.0026228  0.00256565 0.0024686  0.00243726\n",
      " 0.00239666 0.00236372 0.00226883 0.00222001 0.00217628 0.0020994\n",
      " 0.00203942 0.00202444 0.00198221 0.00196724 0.0019264  0.00189123\n",
      " 0.00186366 0.00182209 0.00178044 0.00177377 0.00170997 0.00170195\n",
      " 0.00166758 0.00164786 0.00162391 0.00157433 0.00153827 0.00153325\n",
      " 0.0015136  0.00149576 0.0014578  0.001442   0.00141702 0.00140961\n",
      " 0.00135317 0.00133792 0.00133048 0.00130052 0.00129989 0.00127384\n",
      " 0.00126146 0.00123253 0.00122411 0.00121312 0.00118317 0.00116516\n",
      " 0.00114608 0.00114283 0.00112739 0.00110875 0.00106601 0.00105444\n",
      " 0.00104909 0.00103477 0.0010273  0.00101704 0.0010062  0.00098452\n",
      " 0.00098147 0.00095792 0.00094403 0.0009375 ]\n"
     ]
    }
   ],
   "source": [
    "# Initialize PCA and fit it to the scaled data\n",
    "pca = PCA(n_components=0.95)  # Retain 95% of the variance\n",
    "X_train_pca = pca.fit_transform(X_train_scaled)\n",
    "\n",
    "# Print the number of components required to retain 95% of the variance\n",
    "print(\"Number of components to retain 95% variance:\", pca.n_components_)\n",
    "\n",
    "# Optional: If you want to see the explained variance ratio of each component\n",
    "print(\"Explained variance ratio of each component:\", pca.explained_variance_ratio_)"
   ]
  },
  {
   "cell_type": "code",
   "execution_count": 6,
   "id": "4c8dee70",
   "metadata": {},
   "outputs": [
    {
     "name": "stdout",
     "output_type": "stream",
     "text": [
      "Dimensionality-reduced data stored successfully.\n"
     ]
    }
   ],
   "source": [
    "# Store the dimensionality-reduced data to a new CSV file\n",
    "reduced_data = pd.DataFrame(X_train_pca)\n",
    "reduced_data.to_csv(\"Reduced_TrainData.csv\", index=False)\n",
    "\n",
    "print(\"Dimensionality-reduced data stored successfully.\")"
   ]
  },
  {
   "cell_type": "code",
   "execution_count": 7,
   "id": "2122f10a",
   "metadata": {},
   "outputs": [],
   "source": [
    "# Load the test data\n",
    "test_data = pd.read_csv(\"TestData.csv\")"
   ]
  },
  {
   "cell_type": "code",
   "execution_count": 8,
   "id": "79a59d08",
   "metadata": {},
   "outputs": [],
   "source": [
    "# Separate features (X_test) and labels (y_test)\n",
    "X_test = test_data.iloc[:, :-1]  # Features\n",
    "y_test = test_data.iloc[:, -1]   # Labels\n"
   ]
  },
  {
   "cell_type": "code",
   "execution_count": 9,
   "id": "e0af0631",
   "metadata": {},
   "outputs": [],
   "source": [
    "# Standardize the features\n",
    "scaler = StandardScaler()\n",
    "X_test_scaled = scaler.fit_transform(X_test)"
   ]
  },
  {
   "cell_type": "code",
   "execution_count": 10,
   "id": "8c030c02",
   "metadata": {},
   "outputs": [],
   "source": [
    "# Apply PCA using the same number of components as determined for the training data\n",
    "X_test_pca = pca.transform(X_test_scaled)"
   ]
  },
  {
   "cell_type": "code",
   "execution_count": 11,
   "id": "04888a87",
   "metadata": {},
   "outputs": [
    {
     "name": "stdout",
     "output_type": "stream",
     "text": [
      "Dimensionality-reduced test data stored successfully.\n"
     ]
    }
   ],
   "source": [
    "# Store the dimensionality-reduced test data to a new CSV file\n",
    "reduced_test_data = pd.DataFrame(X_test_pca)\n",
    "reduced_test_data.to_csv(\"Reduced_TestData.csv\", index=False)\n",
    "\n",
    "print(\"Dimensionality-reduced test data stored successfully.\")"
   ]
  },
  {
   "cell_type": "code",
   "execution_count": 20,
   "id": "2e82aebc",
   "metadata": {},
   "outputs": [],
   "source": [
    "import numpy as np"
   ]
  },
  {
   "cell_type": "code",
   "execution_count": 21,
   "id": "295524e7",
   "metadata": {},
   "outputs": [],
   "source": [
    "class GaussianNaiveBayes:\n",
    "    def fit(self, X, y):\n",
    "        self.classes = np.unique(y)\n",
    "        self.parameters = []\n",
    "        for c in self.classes:\n",
    "            X_c = X[y == c]\n",
    "            self.parameters.append([(np.mean(X_c, axis=0), np.var(X_c, axis=0))])\n",
    "    \n",
    "    def _calculate_likelihood(self, x, mean, var):\n",
    "        eps = 1e-4  # to prevent division by zero\n",
    "        coeff = 1.0 / np.sqrt(2.0 * np.pi * var + eps)\n",
    "        exponent = np.exp(-(np.square(x - mean) / (2.0 * var + eps)))\n",
    "        return coeff * exponent\n",
    "    \n",
    "    def _calculate_prior(self, c, y_train):\n",
    "        return np.mean(y_train == c)\n",
    "    \n",
    "    def _calculate_posterior(self, x, y_train):\n",
    "        posteriors = []\n",
    "        for i, c in enumerate(self.classes):\n",
    "            prior = np.log(self._calculate_prior(c, y_train))\n",
    "            likelihood = np.sum(np.log(self._calculate_likelihood(x, *self.parameters[i][0])))\n",
    "            posterior = prior + likelihood\n",
    "            posteriors.append(posterior)\n",
    "        return self.classes[np.argmax(posteriors)]\n",
    "    \n",
    "    def predict(self, X, y_train):\n",
    "        y_pred = [self._calculate_posterior(x, y_train) for x in X]\n",
    "        return np.array(y_pred)"
   ]
  },
  {
   "cell_type": "code",
   "execution_count": 22,
   "id": "637ef2c6",
   "metadata": {},
   "outputs": [],
   "source": [
    "# Load dimensionality-reduced test data\n",
    "reduced_test_data = pd.read_csv(\"Reduced_TestData.csv\")"
   ]
  },
  {
   "cell_type": "code",
   "execution_count": 23,
   "id": "fb4e52ab",
   "metadata": {},
   "outputs": [],
   "source": [
    "# Prepare test features (X_test_reduced) and labels (y_test)\n",
    "X_test_reduced = reduced_test_data.values\n",
    "y_test = test_data.iloc[:, -1].values  # Labels"
   ]
  },
  {
   "cell_type": "code",
   "execution_count": 24,
   "id": "fee25cc8",
   "metadata": {},
   "outputs": [],
   "source": [
    "# Instantiate and fit Gaussian Naive Bayes classifier\n",
    "naive_bayes = GaussianNaiveBayes()\n",
    "naive_bayes.fit(X_train_pca, y_train)"
   ]
  },
  {
   "cell_type": "code",
   "execution_count": 25,
   "id": "09bc01d4",
   "metadata": {},
   "outputs": [
    {
     "name": "stderr",
     "output_type": "stream",
     "text": [
      "C:\\Users\\USER\\AppData\\Local\\Temp\\ipykernel_968\\1383606816.py:22: RuntimeWarning: divide by zero encountered in log\n",
      "  likelihood = np.sum(np.log(self._calculate_likelihood(x, *self.parameters[i][0])))\n"
     ]
    }
   ],
   "source": [
    "# Predict labels for dimensionality-reduced test data\n",
    "y_pred = naive_bayes.predict(X_test_reduced, y_train)"
   ]
  },
  {
   "cell_type": "code",
   "execution_count": 26,
   "id": "0e913f6b",
   "metadata": {},
   "outputs": [
    {
     "name": "stdout",
     "output_type": "stream",
     "text": [
      "Accuracy of Gaussian Naive Bayes classifier on dimensionality-reduced test data: 0.67\n"
     ]
    }
   ],
   "source": [
    "# Calculate accuracy\n",
    "accuracy = np.mean(y_pred == y_test)\n",
    "print(\"Accuracy of Gaussian Naive Bayes classifier on dimensionality-reduced test data:\", accuracy)"
   ]
  },
  {
   "cell_type": "code",
   "execution_count": 27,
   "id": "c02a5c27",
   "metadata": {},
   "outputs": [],
   "source": [
    "import numpy as np\n"
   ]
  },
  {
   "cell_type": "code",
   "execution_count": 28,
   "id": "96d7b46f",
   "metadata": {},
   "outputs": [],
   "source": [
    "class LinearDiscriminantAnalysis:\n",
    "    def fit(self, X, y):\n",
    "        self.classes = np.unique(y)\n",
    "        self.class_means = []\n",
    "        self.global_mean = np.mean(X, axis=0)\n",
    "        self.class_cov_matrices = []\n",
    "        self.priors = []\n",
    "        \n",
    "        for c in self.classes:\n",
    "            X_c = X[y == c]\n",
    "            mean_c = np.mean(X_c, axis=0)\n",
    "            self.class_means.append(mean_c)\n",
    "            self.class_cov_matrices.append((X_c - mean_c).T @ (X_c - mean_c))\n",
    "            self.priors.append(len(X_c) / len(X))\n",
    "            \n",
    "        self.class_cov_matrices = np.array(self.class_cov_matrices)\n",
    "        self.priors = np.array(self.priors)\n",
    "        \n",
    "        self.within_class_cov = np.sum(self.class_cov_matrices, axis=0)\n",
    "        self.between_class_cov = ((self.class_means - self.global_mean).T @ \n",
    "                                  (self.class_means - self.global_mean))\n",
    "        \n",
    "        self.within_class_inv = np.linalg.inv(self.within_class_cov)\n",
    "        self.weights = np.linalg.inv(self.within_class_cov) @ (self.class_means - self.global_mean).T\n",
    "        \n",
    "    def predict(self, X):\n",
    "        y_pred = []\n",
    "        for x in X:\n",
    "            discriminants = []\n",
    "            for i, c in enumerate(self.classes):\n",
    "                w = self.weights[:, i]\n",
    "                b = np.log(self.priors[i]) - 0.5 * (self.class_means[i] @ self.within_class_inv @ self.class_means[i].T)\n",
    "                discriminant = x @ w - (self.global_mean @ w) + b\n",
    "                discriminants.append(discriminant)\n",
    "            y_pred.append(self.classes[np.argmax(discriminants)])\n",
    "        return np.array(y_pred)\n"
   ]
  },
  {
   "cell_type": "code",
   "execution_count": 29,
   "id": "4cbb5104",
   "metadata": {},
   "outputs": [],
   "source": [
    "# Load dimensionality-reduced test data\n",
    "reduced_test_data = pd.read_csv(\"Reduced_TestData.csv\")\n"
   ]
  },
  {
   "cell_type": "code",
   "execution_count": 30,
   "id": "e958a7d1",
   "metadata": {},
   "outputs": [],
   "source": [
    "# Prepare test features (X_test_reduced) and labels (y_test)\n",
    "X_test_reduced = reduced_test_data.values\n",
    "y_test = test_data.iloc[:, -1].values  # Labels\n"
   ]
  },
  {
   "cell_type": "code",
   "execution_count": 31,
   "id": "faebf7be",
   "metadata": {},
   "outputs": [],
   "source": [
    "# Instantiate and fit Linear Discriminant Analysis classifier\n",
    "lda = LinearDiscriminantAnalysis()\n",
    "lda.fit(X_train_pca, y_train)\n"
   ]
  },
  {
   "cell_type": "code",
   "execution_count": 32,
   "id": "17a786e5",
   "metadata": {},
   "outputs": [],
   "source": [
    "# Predict labels for dimensionality-reduced test data\n",
    "y_pred_lda = lda.predict(X_test_reduced)\n"
   ]
  },
  {
   "cell_type": "code",
   "execution_count": 33,
   "id": "da6e5343",
   "metadata": {},
   "outputs": [
    {
     "name": "stdout",
     "output_type": "stream",
     "text": [
      "Accuracy of Linear Discriminant Analysis classifier on dimensionality-reduced test data: 0.82\n"
     ]
    }
   ],
   "source": [
    "# Calculate accuracy\n",
    "accuracy_lda = np.mean(y_pred_lda == y_test)\n",
    "print(\"Accuracy of Linear Discriminant Analysis classifier on dimensionality-reduced test data:\", accuracy_lda)"
   ]
  },
  {
   "cell_type": "code",
   "execution_count": 34,
   "id": "6c8f0873",
   "metadata": {},
   "outputs": [],
   "source": [
    "from sklearn.svm import SVC\n",
    "from sklearn.metrics import accuracy_score\n"
   ]
  },
  {
   "cell_type": "code",
   "execution_count": 35,
   "id": "7047a336",
   "metadata": {},
   "outputs": [],
   "source": [
    "# Load dimensionality-reduced test data\n",
    "reduced_test_data = pd.read_csv(\"Reduced_TestData.csv\")\n"
   ]
  },
  {
   "cell_type": "code",
   "execution_count": 36,
   "id": "b0d26390",
   "metadata": {},
   "outputs": [],
   "source": [
    "# Prepare test features (X_test_reduced) and labels (y_test)\n",
    "X_test_reduced = reduced_test_data.values\n",
    "y_test = test_data.iloc[:, -1].values  # Labels\n"
   ]
  },
  {
   "cell_type": "code",
   "execution_count": 37,
   "id": "49ed6599",
   "metadata": {},
   "outputs": [],
   "source": [
    "# Instantiate SVM classifier\n",
    "svm_classifier = SVC(kernel='linear')\n"
   ]
  },
  {
   "cell_type": "code",
   "execution_count": 38,
   "id": "92faefba",
   "metadata": {},
   "outputs": [
    {
     "data": {
      "text/html": [
       "<style>#sk-container-id-1 {color: black;background-color: white;}#sk-container-id-1 pre{padding: 0;}#sk-container-id-1 div.sk-toggleable {background-color: white;}#sk-container-id-1 label.sk-toggleable__label {cursor: pointer;display: block;width: 100%;margin-bottom: 0;padding: 0.3em;box-sizing: border-box;text-align: center;}#sk-container-id-1 label.sk-toggleable__label-arrow:before {content: \"▸\";float: left;margin-right: 0.25em;color: #696969;}#sk-container-id-1 label.sk-toggleable__label-arrow:hover:before {color: black;}#sk-container-id-1 div.sk-estimator:hover label.sk-toggleable__label-arrow:before {color: black;}#sk-container-id-1 div.sk-toggleable__content {max-height: 0;max-width: 0;overflow: hidden;text-align: left;background-color: #f0f8ff;}#sk-container-id-1 div.sk-toggleable__content pre {margin: 0.2em;color: black;border-radius: 0.25em;background-color: #f0f8ff;}#sk-container-id-1 input.sk-toggleable__control:checked~div.sk-toggleable__content {max-height: 200px;max-width: 100%;overflow: auto;}#sk-container-id-1 input.sk-toggleable__control:checked~label.sk-toggleable__label-arrow:before {content: \"▾\";}#sk-container-id-1 div.sk-estimator input.sk-toggleable__control:checked~label.sk-toggleable__label {background-color: #d4ebff;}#sk-container-id-1 div.sk-label input.sk-toggleable__control:checked~label.sk-toggleable__label {background-color: #d4ebff;}#sk-container-id-1 input.sk-hidden--visually {border: 0;clip: rect(1px 1px 1px 1px);clip: rect(1px, 1px, 1px, 1px);height: 1px;margin: -1px;overflow: hidden;padding: 0;position: absolute;width: 1px;}#sk-container-id-1 div.sk-estimator {font-family: monospace;background-color: #f0f8ff;border: 1px dotted black;border-radius: 0.25em;box-sizing: border-box;margin-bottom: 0.5em;}#sk-container-id-1 div.sk-estimator:hover {background-color: #d4ebff;}#sk-container-id-1 div.sk-parallel-item::after {content: \"\";width: 100%;border-bottom: 1px solid gray;flex-grow: 1;}#sk-container-id-1 div.sk-label:hover label.sk-toggleable__label {background-color: #d4ebff;}#sk-container-id-1 div.sk-serial::before {content: \"\";position: absolute;border-left: 1px solid gray;box-sizing: border-box;top: 0;bottom: 0;left: 50%;z-index: 0;}#sk-container-id-1 div.sk-serial {display: flex;flex-direction: column;align-items: center;background-color: white;padding-right: 0.2em;padding-left: 0.2em;position: relative;}#sk-container-id-1 div.sk-item {position: relative;z-index: 1;}#sk-container-id-1 div.sk-parallel {display: flex;align-items: stretch;justify-content: center;background-color: white;position: relative;}#sk-container-id-1 div.sk-item::before, #sk-container-id-1 div.sk-parallel-item::before {content: \"\";position: absolute;border-left: 1px solid gray;box-sizing: border-box;top: 0;bottom: 0;left: 50%;z-index: -1;}#sk-container-id-1 div.sk-parallel-item {display: flex;flex-direction: column;z-index: 1;position: relative;background-color: white;}#sk-container-id-1 div.sk-parallel-item:first-child::after {align-self: flex-end;width: 50%;}#sk-container-id-1 div.sk-parallel-item:last-child::after {align-self: flex-start;width: 50%;}#sk-container-id-1 div.sk-parallel-item:only-child::after {width: 0;}#sk-container-id-1 div.sk-dashed-wrapped {border: 1px dashed gray;margin: 0 0.4em 0.5em 0.4em;box-sizing: border-box;padding-bottom: 0.4em;background-color: white;}#sk-container-id-1 div.sk-label label {font-family: monospace;font-weight: bold;display: inline-block;line-height: 1.2em;}#sk-container-id-1 div.sk-label-container {text-align: center;}#sk-container-id-1 div.sk-container {/* jupyter's `normalize.less` sets `[hidden] { display: none; }` but bootstrap.min.css set `[hidden] { display: none !important; }` so we also need the `!important` here to be able to override the default hidden behavior on the sphinx rendered scikit-learn.org. See: https://github.com/scikit-learn/scikit-learn/issues/21755 */display: inline-block !important;position: relative;}#sk-container-id-1 div.sk-text-repr-fallback {display: none;}</style><div id=\"sk-container-id-1\" class=\"sk-top-container\"><div class=\"sk-text-repr-fallback\"><pre>SVC(kernel=&#x27;linear&#x27;)</pre><b>In a Jupyter environment, please rerun this cell to show the HTML representation or trust the notebook. <br />On GitHub, the HTML representation is unable to render, please try loading this page with nbviewer.org.</b></div><div class=\"sk-container\" hidden><div class=\"sk-item\"><div class=\"sk-estimator sk-toggleable\"><input class=\"sk-toggleable__control sk-hidden--visually\" id=\"sk-estimator-id-1\" type=\"checkbox\" checked><label for=\"sk-estimator-id-1\" class=\"sk-toggleable__label sk-toggleable__label-arrow\">SVC</label><div class=\"sk-toggleable__content\"><pre>SVC(kernel=&#x27;linear&#x27;)</pre></div></div></div></div></div>"
      ],
      "text/plain": [
       "SVC(kernel='linear')"
      ]
     },
     "execution_count": 38,
     "metadata": {},
     "output_type": "execute_result"
    }
   ],
   "source": [
    "# Fit SVM classifier\n",
    "svm_classifier.fit(X_train_pca, y_train)\n"
   ]
  },
  {
   "cell_type": "code",
   "execution_count": 39,
   "id": "cc197ba7",
   "metadata": {},
   "outputs": [],
   "source": [
    "# Predict labels for dimensionality-reduced test data\n",
    "y_pred_svm = svm_classifier.predict(X_test_reduced)\n"
   ]
  },
  {
   "cell_type": "code",
   "execution_count": 40,
   "id": "0c649eec",
   "metadata": {},
   "outputs": [
    {
     "name": "stdout",
     "output_type": "stream",
     "text": [
      "Accuracy of SVM classifier on dimensionality-reduced test data: 0.925\n"
     ]
    }
   ],
   "source": [
    "# Calculate accuracy\n",
    "accuracy_svm = accuracy_score(y_test, y_pred_svm)\n",
    "print(\"Accuracy of SVM classifier on dimensionality-reduced test data:\", accuracy_svm)"
   ]
  },
  {
   "cell_type": "code",
   "execution_count": 41,
   "id": "d1aed6d4",
   "metadata": {},
   "outputs": [],
   "source": [
    "from sklearn.naive_bayes import GaussianNB\n",
    "from sklearn.metrics import accuracy_score\n"
   ]
  },
  {
   "cell_type": "code",
   "execution_count": 42,
   "id": "5a675e22",
   "metadata": {},
   "outputs": [],
   "source": [
    "# Load dimensionality-reduced test data\n",
    "reduced_test_data = pd.read_csv(\"Reduced_TestData.csv\")\n"
   ]
  },
  {
   "cell_type": "code",
   "execution_count": 43,
   "id": "afa2ce19",
   "metadata": {},
   "outputs": [],
   "source": [
    "# Prepare test features (X_test_reduced) and labels (y_test)\n",
    "X_test_reduced = reduced_test_data.values\n",
    "y_test = test_data.iloc[:, -1].values  # Labels\n"
   ]
  },
  {
   "cell_type": "code",
   "execution_count": 44,
   "id": "24438d5d",
   "metadata": {},
   "outputs": [],
   "source": [
    "# Instantiate Gaussian Naive Bayes classifier\n",
    "nb_classifier = GaussianNB()\n"
   ]
  },
  {
   "cell_type": "code",
   "execution_count": 45,
   "id": "78328ec7",
   "metadata": {},
   "outputs": [
    {
     "data": {
      "text/html": [
       "<style>#sk-container-id-2 {color: black;background-color: white;}#sk-container-id-2 pre{padding: 0;}#sk-container-id-2 div.sk-toggleable {background-color: white;}#sk-container-id-2 label.sk-toggleable__label {cursor: pointer;display: block;width: 100%;margin-bottom: 0;padding: 0.3em;box-sizing: border-box;text-align: center;}#sk-container-id-2 label.sk-toggleable__label-arrow:before {content: \"▸\";float: left;margin-right: 0.25em;color: #696969;}#sk-container-id-2 label.sk-toggleable__label-arrow:hover:before {color: black;}#sk-container-id-2 div.sk-estimator:hover label.sk-toggleable__label-arrow:before {color: black;}#sk-container-id-2 div.sk-toggleable__content {max-height: 0;max-width: 0;overflow: hidden;text-align: left;background-color: #f0f8ff;}#sk-container-id-2 div.sk-toggleable__content pre {margin: 0.2em;color: black;border-radius: 0.25em;background-color: #f0f8ff;}#sk-container-id-2 input.sk-toggleable__control:checked~div.sk-toggleable__content {max-height: 200px;max-width: 100%;overflow: auto;}#sk-container-id-2 input.sk-toggleable__control:checked~label.sk-toggleable__label-arrow:before {content: \"▾\";}#sk-container-id-2 div.sk-estimator input.sk-toggleable__control:checked~label.sk-toggleable__label {background-color: #d4ebff;}#sk-container-id-2 div.sk-label input.sk-toggleable__control:checked~label.sk-toggleable__label {background-color: #d4ebff;}#sk-container-id-2 input.sk-hidden--visually {border: 0;clip: rect(1px 1px 1px 1px);clip: rect(1px, 1px, 1px, 1px);height: 1px;margin: -1px;overflow: hidden;padding: 0;position: absolute;width: 1px;}#sk-container-id-2 div.sk-estimator {font-family: monospace;background-color: #f0f8ff;border: 1px dotted black;border-radius: 0.25em;box-sizing: border-box;margin-bottom: 0.5em;}#sk-container-id-2 div.sk-estimator:hover {background-color: #d4ebff;}#sk-container-id-2 div.sk-parallel-item::after {content: \"\";width: 100%;border-bottom: 1px solid gray;flex-grow: 1;}#sk-container-id-2 div.sk-label:hover label.sk-toggleable__label {background-color: #d4ebff;}#sk-container-id-2 div.sk-serial::before {content: \"\";position: absolute;border-left: 1px solid gray;box-sizing: border-box;top: 0;bottom: 0;left: 50%;z-index: 0;}#sk-container-id-2 div.sk-serial {display: flex;flex-direction: column;align-items: center;background-color: white;padding-right: 0.2em;padding-left: 0.2em;position: relative;}#sk-container-id-2 div.sk-item {position: relative;z-index: 1;}#sk-container-id-2 div.sk-parallel {display: flex;align-items: stretch;justify-content: center;background-color: white;position: relative;}#sk-container-id-2 div.sk-item::before, #sk-container-id-2 div.sk-parallel-item::before {content: \"\";position: absolute;border-left: 1px solid gray;box-sizing: border-box;top: 0;bottom: 0;left: 50%;z-index: -1;}#sk-container-id-2 div.sk-parallel-item {display: flex;flex-direction: column;z-index: 1;position: relative;background-color: white;}#sk-container-id-2 div.sk-parallel-item:first-child::after {align-self: flex-end;width: 50%;}#sk-container-id-2 div.sk-parallel-item:last-child::after {align-self: flex-start;width: 50%;}#sk-container-id-2 div.sk-parallel-item:only-child::after {width: 0;}#sk-container-id-2 div.sk-dashed-wrapped {border: 1px dashed gray;margin: 0 0.4em 0.5em 0.4em;box-sizing: border-box;padding-bottom: 0.4em;background-color: white;}#sk-container-id-2 div.sk-label label {font-family: monospace;font-weight: bold;display: inline-block;line-height: 1.2em;}#sk-container-id-2 div.sk-label-container {text-align: center;}#sk-container-id-2 div.sk-container {/* jupyter's `normalize.less` sets `[hidden] { display: none; }` but bootstrap.min.css set `[hidden] { display: none !important; }` so we also need the `!important` here to be able to override the default hidden behavior on the sphinx rendered scikit-learn.org. See: https://github.com/scikit-learn/scikit-learn/issues/21755 */display: inline-block !important;position: relative;}#sk-container-id-2 div.sk-text-repr-fallback {display: none;}</style><div id=\"sk-container-id-2\" class=\"sk-top-container\"><div class=\"sk-text-repr-fallback\"><pre>GaussianNB()</pre><b>In a Jupyter environment, please rerun this cell to show the HTML representation or trust the notebook. <br />On GitHub, the HTML representation is unable to render, please try loading this page with nbviewer.org.</b></div><div class=\"sk-container\" hidden><div class=\"sk-item\"><div class=\"sk-estimator sk-toggleable\"><input class=\"sk-toggleable__control sk-hidden--visually\" id=\"sk-estimator-id-2\" type=\"checkbox\" checked><label for=\"sk-estimator-id-2\" class=\"sk-toggleable__label sk-toggleable__label-arrow\">GaussianNB</label><div class=\"sk-toggleable__content\"><pre>GaussianNB()</pre></div></div></div></div></div>"
      ],
      "text/plain": [
       "GaussianNB()"
      ]
     },
     "execution_count": 45,
     "metadata": {},
     "output_type": "execute_result"
    }
   ],
   "source": [
    "# Fit Gaussian Naive Bayes classifier\n",
    "nb_classifier.fit(X_train_pca, y_train)"
   ]
  },
  {
   "cell_type": "code",
   "execution_count": 46,
   "id": "e772aa7b",
   "metadata": {},
   "outputs": [],
   "source": [
    "# Predict labels for dimensionality-reduced test data\n",
    "y_pred_nb = nb_classifier.predict(X_test_reduced)"
   ]
  },
  {
   "cell_type": "code",
   "execution_count": 47,
   "id": "f87e0b29",
   "metadata": {},
   "outputs": [
    {
     "name": "stdout",
     "output_type": "stream",
     "text": [
      "Accuracy of Gaussian Naive Bayes classifier on dimensionality-reduced test data: 0.67\n"
     ]
    }
   ],
   "source": [
    "# Calculate accuracy\n",
    "accuracy_nb = accuracy_score(y_test, y_pred_nb)\n",
    "print(\"Accuracy of Gaussian Naive Bayes classifier on dimensionality-reduced test data:\", accuracy_nb)"
   ]
  },
  {
   "cell_type": "code",
   "execution_count": 48,
   "id": "315189b2",
   "metadata": {},
   "outputs": [],
   "source": [
    "import matplotlib.pyplot as plt"
   ]
  },
  {
   "cell_type": "code",
   "execution_count": 49,
   "id": "5af69e42",
   "metadata": {},
   "outputs": [],
   "source": [
    "# Define the names of the classifiers\n",
    "classifiers = ['Gaussian Naive Bayes', 'Linear Discriminant Analysis', 'Support Vector Machine']\n",
    "\n",
    "# Define the accuracies of the classifiers\n",
    "accuracies = [accuracy_nb, accuracy_lda, accuracy_svm]\n"
   ]
  },
  {
   "cell_type": "code",
   "execution_count": 50,
   "id": "a88f6ed1",
   "metadata": {},
   "outputs": [
    {
     "data": {
      "image/png": "[encoded data removed]",
      "text/plain": [
       "<Figure size 1000x600 with 1 Axes>"
      ]
     },
     "metadata": {},
     "output_type": "display_data"
    }
   ],
   "source": [
    "# Plot the bar graph\n",
    "plt.figure(figsize=(10, 6))\n",
    "plt.bar(classifiers, accuracies, color=['blue', 'green', 'red'])\n",
    "plt.xlabel('Classification Techniques')\n",
    "plt.ylabel('Accuracy')\n",
    "plt.title('Comparison of Classification Techniques')\n",
    "plt.ylim(0.5, 1)  # Set y-axis limit\n",
    "plt.grid(axis='y', linestyle='--', alpha=0.7)\n",
    "plt.show()"
   ]
  },
  {
   "cell_type": "code",
   "execution_count": 52,
   "id": "995fc973",
   "metadata": {},
   "outputs": [
    {
     "data": {
      "image/png": "[encoded data removed]",
      "text/plain": [
       "<Figure size 1000x600 with 1 Axes>"
      ]
     },
     "metadata": {},
     "output_type": "display_data"
    }
   ],
   "source": [
    "import matplotlib.pyplot as plt\n",
    "\n",
    "# Define the names of the classifiers\n",
    "classifiers = ['Bayes from scratch', 'LDA', 'SVM (scikit-learn)', 'Naive Bayes (scikit-learn)']\n",
    "\n",
    "# Define the accuracies of the classifiers\n",
    "accuracies = [accuracy, accuracy_lda, accuracy_svm, accuracy_nb]\n",
    "\n",
    "# Define colors for the bars\n",
    "colors = ['#1f77b4', '#ff7f0e', '#2ca02c', '#d62728']\n",
    "\n",
    "# Plot the bar graph\n",
    "plt.figure(figsize=(10, 6))\n",
    "bars = plt.bar(classifiers, accuracies, color=colors)\n",
    "plt.xlabel('Classification Techniques')\n",
    "plt.ylabel('Accuracy')\n",
    "plt.title('Comparison of Classification Techniques')\n",
    "plt.ylim(0.5, 1)  # Set y-axis limit\n",
    "plt.grid(axis='y', linestyle='--', alpha=0.7)\n",
    "plt.xticks(rotation=45)  # Rotate x-axis labels for better readability\n",
    "\n",
    "# Add text labels on top of the bars\n",
    "for bar, accuracy in zip(bars, accuracies):\n",
    "    plt.text(bar.get_x() + bar.get_width() / 2 - 0.1, bar.get_height() + 0.01, f'{accuracy:.2f}', ha='center', color='black')\n",
    "\n",
    "plt.show()\n"
   ]
  },
  {
   "cell_type": "code",
   "execution_count": null,
   "id": "c754d6b8",
   "metadata": {},
   "outputs": [],
   "source": []
  }
 ],
 "metadata": {
  "kernelspec": {
   "display_name": "Python 3 (ipykernel)",
   "language": "python",
   "name": "python3"
  },
  "language_info": {
   "codemirror_mode": {
    "name": "ipython",
    "version": 3
   },
   "file_extension": ".py",
   "mimetype": "text/x-python",
   "name": "python",
   "nbconvert_exporter": "python",
   "pygments_lexer": "ipython3",
   "version": "3.10.9"
  }
 },
 "nbformat": 4,
 "nbformat_minor": 5
}
