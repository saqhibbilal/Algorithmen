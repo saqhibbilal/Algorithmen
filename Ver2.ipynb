{
 "cells": [
  {
   "cell_type": "code",
   "execution_count": 1,
   "id": "0d71eacb",
   "metadata": {},
   "outputs": [],
   "source": [
    "import pandas as pd\n",
    "import numpy as np"
   ]
  },
  {
   "cell_type": "code",
   "execution_count": 2,
   "id": "530cdb10",
   "metadata": {},
   "outputs": [],
   "source": [
    "# Load the data\n",
    "data = pd.read_csv('telescope_data.csv')\n"
   ]
  },
  {
   "cell_type": "code",
   "execution_count": 3,
   "id": "678b786e",
   "metadata": {},
   "outputs": [],
   "source": [
    "# Define a function to calculate the covariance matrix\n",
    "def compute_covariance_matrix(X):\n",
    "    cov_matrix = np.cov(X, rowvar=False)\n",
    "    return cov_matrix\n",
    "\n",
    "# Define a function to calculate the eigenvalues and eigenvectors\n",
    "def compute_eigen(cov_matrix):\n",
    "    eigenvalues, eigenvectors = np.linalg.eig(cov_matrix)\n",
    "    return eigenvalues, eigenvectors\n",
    "\n",
    "# Define a function to perform PCA\n",
    "def pca_from_scratch(X, target_variance_ratio=0.95):\n",
    "    # Step 1: Calculate the covariance matrix\n",
    "    cov_matrix = compute_covariance_matrix(X)\n",
    "    \n",
    "    # Step 2: Calculate eigenvalues and eigenvectors\n",
    "    eigenvalues, eigenvectors = compute_eigen(cov_matrix)\n",
    "    \n",
    "    # Step 3: Sort eigenvalues and eigenvectors\n",
    "    sorted_indices = np.argsort(eigenvalues)[::-1]\n",
    "    eigenvalues = eigenvalues[sorted_indices]\n",
    "    eigenvectors = eigenvectors[:, sorted_indices]\n",
    "    \n",
    "    # Step 4: Determine the number of components to retain\n",
    "    total_variance = np.sum(eigenvalues)\n",
    "    variance_ratio = np.cumsum(eigenvalues) / total_variance\n",
    "    num_components = np.argmax(variance_ratio >= target_variance_ratio) + 1\n",
    "    \n",
    "    # Step 5: Retain the top components\n",
    "    principal_components = eigenvectors[:, :num_components]\n",
    "    \n",
    "    # Step 6: Transform the data\n",
    "    transformed_data = X @ principal_components\n",
    "    \n",
    "    return transformed_data\n"
   ]
  },
  {
   "cell_type": "code",
   "execution_count": 4,
   "id": "7265ac70",
   "metadata": {},
   "outputs": [],
   "source": [
    "# Apply PCA from scratch to the dataset\n",
    "data_pca_scratch = pca_from_scratch(data.iloc[:, :-1])\n"
   ]
  },
  {
   "cell_type": "code",
   "execution_count": 5,
   "id": "e7f621ef",
   "metadata": {},
   "outputs": [],
   "source": [
    "# 1.2 PCA using scikit-learn\n",
    "from sklearn.decomposition import PCA\n"
   ]
  },
  {
   "cell_type": "code",
   "execution_count": 6,
   "id": "b0cb46f8",
   "metadata": {},
   "outputs": [],
   "source": [
    "# Apply PCA using scikit-learn to the dataset\n",
    "pca = PCA(n_components=0.95)\n",
    "data_pca_sklearn = pca.fit_transform(data.iloc[:, :-1])\n"
   ]
  },
  {
   "cell_type": "code",
   "execution_count": 7,
   "id": "f90aab0b",
   "metadata": {},
   "outputs": [
    {
     "name": "stdout",
     "output_type": "stream",
     "text": [
      "PCA from scratch result shape: (201, 5)\n",
      "PCA using scikit-learn result shape: (201, 5)\n"
     ]
    }
   ],
   "source": [
    "# Compare results\n",
    "print(\"PCA from scratch result shape:\", data_pca_scratch.shape)\n",
    "print(\"PCA using scikit-learn result shape:\", data_pca_sklearn.shape)"
   ]
  },
  {
   "cell_type": "code",
   "execution_count": 8,
   "id": "9b0d6305",
   "metadata": {},
   "outputs": [],
   "source": [
    "from sklearn.metrics.pairwise import pairwise_kernels\n"
   ]
  },
  {
   "cell_type": "code",
   "execution_count": 9,
   "id": "7921f3fa",
   "metadata": {},
   "outputs": [],
   "source": [
    "def kpca_rbf_from_scratch(X, gamma=0.1, n_components=2):\n",
    "    # Calculate the RBF kernel matrix\n",
    "    kernel_matrix = pairwise_kernels(X, metric='rbf', gamma=gamma)\n",
    "    \n",
    "    # Center the kernel matrix\n",
    "    n = kernel_matrix.shape[0]\n",
    "    one_n = np.ones((n, n)) / n\n",
    "    kernel_matrix_centered = kernel_matrix - one_n @ kernel_matrix - kernel_matrix @ one_n + one_n @ kernel_matrix @ one_n\n",
    "    \n",
    "    # Calculate eigenvalues and eigenvectors of the centered kernel matrix\n",
    "    eigenvalues, eigenvectors = np.linalg.eigh(kernel_matrix_centered)\n",
    "    \n",
    "    # Sort eigenvalues and eigenvectors\n",
    "    sorted_indices = np.argsort(eigenvalues)[::-1]\n",
    "    eigenvalues = eigenvalues[sorted_indices]\n",
    "    eigenvectors = eigenvectors[:, sorted_indices]\n",
    "    \n",
    "    # Retain the top components\n",
    "    principal_components = eigenvectors[:, :n_components]\n",
    "    \n",
    "    # Transform the data\n",
    "    transformed_data = kernel_matrix_centered @ principal_components\n",
    "    \n",
    "    return transformed_data\n",
    "\n",
    "# Apply KPCA with RBF kernel from scratch to the dataset\n",
    "data_kpca_rbf_scratch = kpca_rbf_from_scratch(data.iloc[:, :-1])\n"
   ]
  },
  {
   "cell_type": "code",
   "execution_count": 10,
   "id": "f6d45d25",
   "metadata": {},
   "outputs": [],
   "source": [
    "# 2.2 KPCA with Polynomial Kernel\n",
    "def kpca_poly_from_scratch(X, degree=3, n_components=2):\n",
    "    # Calculate the Polynomial kernel matrix\n",
    "    kernel_matrix = pairwise_kernels(X, metric='poly', degree=degree)\n",
    "    \n",
    "    # Center the kernel matrix\n",
    "    n = kernel_matrix.shape[0]\n",
    "    one_n = np.ones((n, n)) / n\n",
    "    kernel_matrix_centered = kernel_matrix - one_n @ kernel_matrix - kernel_matrix @ one_n + one_n @ kernel_matrix @ one_n\n",
    "    \n",
    "    # Calculate eigenvalues and eigenvectors of the centered kernel matrix\n",
    "    eigenvalues, eigenvectors = np.linalg.eigh(kernel_matrix_centered)\n",
    "    \n",
    "    # Sort eigenvalues and eigenvectors\n",
    "    sorted_indices = np.argsort(eigenvalues)[::-1]\n",
    "    eigenvalues = eigenvalues[sorted_indices]\n",
    "    eigenvectors = eigenvectors[:, sorted_indices]\n",
    "    \n",
    "    # Retain the top components\n",
    "    principal_components = eigenvectors[:, :n_components]\n",
    "    \n",
    "    # Transform the data\n",
    "    transformed_data = kernel_matrix_centered @ principal_components\n",
    "    \n",
    "    return transformed_data\n",
    "\n",
    "# Apply KPCA with Polynomial kernel from scratch to the dataset\n",
    "data_kpca_poly_scratch = kpca_poly_from_scratch(data.iloc[:, :-1])\n"
   ]
  },
  {
   "cell_type": "code",
   "execution_count": 11,
   "id": "138fa1fb",
   "metadata": {},
   "outputs": [],
   "source": [
    "# 2.3 KPCA with Linear Kernel\n",
    "def kpca_linear_from_scratch(X, n_components=2):\n",
    "    # Calculate the Linear kernel matrix\n",
    "    kernel_matrix = pairwise_kernels(X, metric='linear')\n",
    "    \n",
    "    # Center the kernel matrix\n",
    "    n = kernel_matrix.shape[0]\n",
    "    one_n = np.ones((n, n)) / n\n",
    "    kernel_matrix_centered = kernel_matrix - one_n @ kernel_matrix - kernel_matrix @ one_n + one_n @ kernel_matrix @ one_n\n",
    "    \n",
    "    # Calculate eigenvalues and eigenvectors of the centered kernel matrix\n",
    "    eigenvalues, eigenvectors = np.linalg.eigh(kernel_matrix_centered)\n",
    "    \n",
    "    # Sort eigenvalues and eigenvectors\n",
    "    sorted_indices = np.argsort(eigenvalues)[::-1]\n",
    "    eigenvalues = eigenvalues[sorted_indices]\n",
    "    eigenvectors = eigenvectors[:, sorted_indices]\n",
    "    \n",
    "    # Retain the top components\n",
    "    principal_components = eigenvectors[:, :n_components]\n",
    "    \n",
    "    # Transform the data\n",
    "    transformed_data = kernel_matrix_centered @ principal_components\n",
    "    \n",
    "    return transformed_data\n",
    "\n",
    "# Apply KPCA with Linear kernel from scratch to the dataset\n",
    "data_kpca_linear_scratch = kpca_linear_from_scratch(data.iloc[:, :-1])"
   ]
  },
  {
   "cell_type": "code",
   "execution_count": 12,
   "id": "a74cab04",
   "metadata": {},
   "outputs": [],
   "source": [
    "# Split the dataset into train and test\n",
    "from sklearn.model_selection import train_test_split\n",
    "\n",
    "X_train, X_test = train_test_split(data, test_size=0.2, random_state=42)"
   ]
  },
  {
   "cell_type": "code",
   "execution_count": 13,
   "id": "7d436c61",
   "metadata": {},
   "outputs": [],
   "source": [
    "# Apply PCA on the test dataset\n",
    "data_test_pca_sklearn = pca.transform(X_test.iloc[:, :-1])\n",
    "data_test_pca_scratch = pca_from_scratch(X_test.iloc[:, :-1])\n"
   ]
  },
  {
   "cell_type": "code",
   "execution_count": 15,
   "id": "ce8db83a",
   "metadata": {},
   "outputs": [],
   "source": [
    "# Apply KPCA with RBF kernel on the test dataset\n",
    "data_test_kpca_rbf_scratch = kpca_rbf_from_scratch(X_test.iloc[:, :-1])\n",
    "\n",
    "# Apply KPCA with Polynomial kernel on the test dataset\n",
    "data_test_kpca_poly_scratch = kpca_poly_from_scratch(data.iloc[:, :-1])\n",
    "\n",
    "\n",
    "# Apply KPCA with Linear kernel on the test dataset\n",
    "data_test_kpca_linear_scratch = kpca_linear_from_scratch(X_test.iloc[:, :-1])\n"
   ]
  },
  {
   "cell_type": "code",
   "execution_count": 16,
   "id": "51438ce1",
   "metadata": {},
   "outputs": [
    {
     "name": "stdout",
     "output_type": "stream",
     "text": [
      "Test data shape after PCA (scikit-learn): (41, 5)\n",
      "Test data shape after PCA (from scratch): (41, 5)\n",
      "Test data shape after KPCA with RBF kernel (from scratch): (41, 2)\n",
      "Test data shape after KPCA with Polynomial kernel (from scratch): (201, 2)\n",
      "Test data shape after KPCA with Linear kernel (from scratch): (41, 2)\n"
     ]
    }
   ],
   "source": [
    "# Display the shapes of transformed test data\n",
    "print(\"Test data shape after PCA (scikit-learn):\", data_test_pca_sklearn.shape)\n",
    "print(\"Test data shape after PCA (from scratch):\", data_test_pca_scratch.shape)\n",
    "print(\"Test data shape after KPCA with RBF kernel (from scratch):\", data_test_kpca_rbf_scratch.shape)\n",
    "print(\"Test data shape after KPCA with Polynomial kernel (from scratch):\", data_test_kpca_poly_scratch.shape)\n",
    "print(\"Test data shape after KPCA with Linear kernel (from scratch):\", data_test_kpca_linear_scratch.shape)"
   ]
  },
  {
   "cell_type": "code",
   "execution_count": null,
   "id": "9c26f732",
   "metadata": {},
   "outputs": [],
   "source": []
  }
 ],
 "metadata": {
  "kernelspec": {
   "display_name": "Python 3 (ipykernel)",
   "language": "python",
   "name": "python3"
  },
  "language_info": {
   "codemirror_mode": {
    "name": "ipython",
    "version": 3
   },
   "file_extension": ".py",
   "mimetype": "text/x-python",
   "name": "python",
   "nbconvert_exporter": "python",
   "pygments_lexer": "ipython3",
   "version": "3.10.9"
  }
 },
 "nbformat": 4,
 "nbformat_minor": 5
}
